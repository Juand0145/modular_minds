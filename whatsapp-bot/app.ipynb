{
 "cells": [
  {
   "cell_type": "code",
   "execution_count": 13,
   "metadata": {},
   "outputs": [],
   "source": [
    "from openai import AzureOpenAI\n",
    "\n",
    "client = AzureOpenAI(\n",
    "    api_version =\"2023-05-15\",\n",
    "    azure_endpoint=\"https://gabirelunosquareopenai.openai.azure.com/\",\n",
    "    api_key = \"799e57477164420a81e76bc1fa05330d\"\n",
    ")\n",
    "\n",
    "def gpt_connection(prompt):  \n",
    "    completion = client.chat.completions.create(\n",
    "    model=\"UnosquareGPT4oModel\",\n",
    "    messages=[{\n",
    "            \"role\": \"user\",\n",
    "            \"content\": f\"{prompt}\",\n",
    "            },],)\n",
    "    \n",
    "    return(completion.choices[0].message.content)"
   ]
  },
  {
   "cell_type": "code",
   "execution_count": 14,
   "metadata": {},
   "outputs": [
    {
     "data": {
      "text/plain": [
       "\"Hello! I'm just a computer program, so I don't have feelings, but I'm here and ready to help you with any questions or tasks you have. How can I assist you today?\""
      ]
     },
     "execution_count": 14,
     "metadata": {},
     "output_type": "execute_result"
    }
   ],
   "source": [
    "gpt_connection(\"hello how are you?\")"
   ]
  }
 ],
 "metadata": {
  "kernelspec": {
   "display_name": "whatsapp-bot-env",
   "language": "python",
   "name": "python3"
  },
  "language_info": {
   "codemirror_mode": {
    "name": "ipython",
    "version": 3
   },
   "file_extension": ".py",
   "mimetype": "text/x-python",
   "name": "python",
   "nbconvert_exporter": "python",
   "pygments_lexer": "ipython3",
   "version": "3.9.21"
  }
 },
 "nbformat": 4,
 "nbformat_minor": 2
}
