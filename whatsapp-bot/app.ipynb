{
 "cells": [
  {
   "cell_type": "code",
   "execution_count": 2,
   "metadata": {},
   "outputs": [],
   "source": [
    "from openai import AzureOpenAI\n",
    "from dotenv import load_dotenv\n",
    "import os\n",
    "\n",
    "load_dotenv()\n",
    "# Configure credentials\n",
    "azure_endpoint = os.getenv('AZURE_OPENAI_ENDPOINT')\n",
    "api_key = os.getenv('AZURE_OPENAI_API_KEY')\n",
    "\n",
    "client = AzureOpenAI(\n",
    "    api_version=\"2023-05-15\",\n",
    "    azure_endpoint=azure_endpoint,\n",
    "    api_key=api_key)\n",
    "\n",
    "def gpt_connection(prompt):\n",
    "    completion = client.chat.completions.create(\n",
    "        model=\"UnosquareGPT4oModel\",\n",
    "        messages=[{\n",
    "            \"role\": \"user\",\n",
    "            \"content\": f\"{prompt}\",\n",
    "        }],\n",
    "    )\n",
    "    return completion.choices[0].message.content"
   ]
  },
  {
   "cell_type": "code",
   "execution_count": 6,
   "metadata": {},
   "outputs": [
    {
     "data": {
      "text/plain": [
       "'Lo siento, pero no tengo acceso a conversaciones anteriores ni puedo recordar eventos pasados en la interacción. ¿Podrías proporcionar más contexto o información sobre lo que necesitas? Estoy aquí para ayudarte.'"
      ]
     },
     "execution_count": 6,
     "metadata": {},
     "output_type": "execute_result"
    }
   ],
   "source": [
    "gpt_connection(\"cual fue la ultima pregunta?\")"
   ]
  }
 ],
 "metadata": {
  "kernelspec": {
   "display_name": "modular_minds",
   "language": "python",
   "name": "python3"
  },
  "language_info": {
   "codemirror_mode": {
    "name": "ipython",
    "version": 3
   },
   "file_extension": ".py",
   "mimetype": "text/x-python",
   "name": "python",
   "nbconvert_exporter": "python",
   "pygments_lexer": "ipython3",
   "version": "3.11.11"
  }
 },
 "nbformat": 4,
 "nbformat_minor": 2
}
